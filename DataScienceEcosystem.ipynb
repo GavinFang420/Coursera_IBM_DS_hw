{
  "metadata": {
    "kernelspec": {
      "name": "python",
      "display_name": "Python (Pyodide)",
      "language": "python"
    },
    "language_info": {
      "codemirror_mode": {
        "name": "python",
        "version": 3
      },
      "file_extension": ".py",
      "mimetype": "text/x-python",
      "name": "python",
      "nbconvert_exporter": "python",
      "pygments_lexer": "ipython3",
      "version": "3.8"
    }
  },
  "nbformat_minor": 5,
  "nbformat": 4,
  "cells": [
    {
      "id": "a0282829-665d-4e90-8cd5-53b83f2ca721",
      "cell_type": "markdown",
      "source": "Data Science Tools and Ecosystem",
      "metadata": {}
    },
    {
      "id": "4103e83b-3655-4fe0-b514-99eca1f43f27",
      "cell_type": "markdown",
      "source": "In this notebook, Data Science Tools and Ecosystem are summarized.",
      "metadata": {}
    },
    {
      "id": "3c7447f6-93eb-42f2-992c-6509f7676004",
      "cell_type": "code",
      "source": "Some of the popular languages that Data Scientists use are:\n    Python\n    R\n    SQL",
      "metadata": {
        "trusted": true
      },
      "outputs": [],
      "execution_count": null
    },
    {
      "id": "1bc9a57a-81bd-4d41-a4af-99e53312249d",
      "cell_type": "code",
      "source": "Some of the commonly used libraries by Data Scientists include:\n    pandas\n    matplotlib\n    NumPy",
      "metadata": {
        "trusted": true
      },
      "outputs": [],
      "execution_count": null
    },
    {
      "id": "7a15a382-c951-447f-9713-263ecb12ada1",
      "cell_type": "code",
      "source": "Data Science Tools\n    Jupyter Notebook\n    Python\n    VS Code",
      "metadata": {
        "trusted": true
      },
      "outputs": [],
      "execution_count": null
    },
    {
      "id": "02a03546-1a08-4dea-8e8b-0a347f351d34",
      "cell_type": "markdown",
      "source": "Below are a few examples of evaluating arithmetic expressions in Python：1 * 2",
      "metadata": {}
    },
    {
      "id": "a115369d-b329-4f46-99bf-c8571a868bd9",
      "cell_type": "code",
      "source": "(3 * 4) + 5",
      "metadata": {
        "trusted": true
      },
      "outputs": [
        {
          "execution_count": 2,
          "output_type": "execute_result",
          "data": {
            "text/plain": "17"
          },
          "metadata": {}
        }
      ],
      "execution_count": 2
    },
    {
      "id": "f78e298f-889e-466a-bf5e-1b825025e0d0",
      "cell_type": "code",
      "source": "200 / 60",
      "metadata": {
        "trusted": true
      },
      "outputs": [
        {
          "execution_count": 3,
          "output_type": "execute_result",
          "data": {
            "text/plain": "3.3333333333333335"
          },
          "metadata": {}
        }
      ],
      "execution_count": 3
    },
    {
      "id": "eb17e1a6-0f02-4297-9325-e92c06c201b9",
      "cell_type": "markdown",
      "source": "Objectives:\n    Identify key tools in Data Science.\n    Understand major programming languages.\n    Learn about essential libraries and their usage.",
      "metadata": {}
    },
    {
      "id": "13d4d72d-8795-48db-a2c3-aa695bb82ceb",
      "cell_type": "code",
      "source": "Yihan Fang",
      "metadata": {
        "trusted": true
      },
      "outputs": [],
      "execution_count": null
    }
  ]
}